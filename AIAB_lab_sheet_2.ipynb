{
  "nbformat": 4,
  "nbformat_minor": 0,
  "metadata": {
    "colab": {
      "provenance": [],
      "include_colab_link": true
    },
    "kernelspec": {
      "name": "python3",
      "display_name": "Python 3"
    }
  },
  "cells": [
    {
      "cell_type": "markdown",
      "metadata": {
        "id": "view-in-github",
        "colab_type": "text"
      },
      "source": [
        "<a href=\"https://colab.research.google.com/github/michaelraef12/Data-Mining-Projects/blob/main/AIAB_lab_sheet_2.ipynb\" target=\"_parent\"><img src=\"https://colab.research.google.com/assets/colab-badge.svg\" alt=\"Open In Colab\"/></a>"
      ]
    },
    {
      "cell_type": "markdown",
      "metadata": {
        "id": "Mp7i_jzAKGPy"
      },
      "source": [
        "<h1><center><b> Acquired Intelligence & Adaptive Behaviour </b></center></h1>\n",
        "<h2><center><i>An optimisation algorithm (Lab Sheet 02) </i></center></h2>\n",
        "\n",
        "\n",
        "**Goal**: In this notebook we will start by implementing a population of hill climbers to solve a resource allocation (or knapsack) problem. We will then contruct the full microbial GA presented in lectures. This will involve designing a suitable fitness function and selection method. You will investigate the effects of hyperparameters such as mutation rate. \n",
        "\n"
      ]
    },
    {
      "cell_type": "markdown",
      "metadata": {
        "id": "hdXY5i_-1yiR"
      },
      "source": [
        "# Knapsack problem\n",
        "\n",
        "The knapsack (KP) problem is an example of a combinatorial optimization problem, refer to the [wiki](https://en.wikipedia.org/wiki/Knapsack_problem) for a broader overview. \n",
        "\n",
        "<center><img src=\"https://upload.wikimedia.org/wikipedia/commons/thumb/f/fd/Knapsack.svg/250px-Knapsack.svg.png\" width=\"200\"></center>\n",
        "\n",
        "It is concerned with a knapsack that has positive integer volume (or capacity) $V$. For instance, the knapsack may be able to store 20 cubic inches. There are $N$ distinct items that may potentially be placed in the knapsack. Item $i$ has a positive integer\n",
        "volume $Vi$ (e.g this object is 8 cubic inches) and positive integer benefit $Bi$ (e.g how benefical is it to have this object in the knapsack). In the most basic form of the problem we will consider there are only one of each item available (0-1 KP).\n",
        "\n",
        "The goal is to maximize benefit:\n",
        "\n",
        "$$\n",
        "\\sum_i^N B_i\n",
        "$$\n",
        "\n",
        "Subject to the constraint that:\n",
        "\n",
        "$$\n",
        "\\big ( \\sum_i^N V_i \\big) \\leq  V\n",
        "$$\n",
        "\n",
        "For example suppose we have a knapsack that has a capacity of 20 cubic inches ($V$) and $N=10$ items of different sizes and different benefits. We want to include in the knapsack only these\n",
        "items that will have the greatest total benefit within the constraint of the knapsack’s capacity.\n",
        "\n",
        "```\n",
        "item        a b c d e f g  h i j\n",
        "Benefit (B) 5 6 1 9 2 8 4  3 7 10\n",
        "Volume (V)  3 2 4 5 8 9 10 1 6 7\n",
        "```\n"
      ]
    },
    {
      "cell_type": "markdown",
      "metadata": {
        "id": "P0IgkG2L4wZq"
      },
      "source": [
        "# Hill climbing agent\n",
        "**Background**: Hill climbers may be used to find solutions to a wide variety of problems. Each hill climbing individual increases its fitness through trial and error:\n",
        "\n",
        "1. Create a random individual\n",
        "2. Change (mutate) the individual \n",
        "3. Measure how good this individual is for some task (fitness)\n",
        "4. If it's worse than before, keep the original individual. Otherwise, keep the changed individual.\n",
        "5. Goto 2\n",
        "\n",
        "\n",
        "Our  algorithms will be composed of four components:\n",
        "\n",
        "1. **Genotype**: a list of numbers which encode information about task solutions, representing an indvidual\n",
        "2. **Genotype to phenotype mapping**: How should the genotype be interpreted as encoding a solution to our problem? This is analogous to the development of an organism from birth to adulthood. However, for this current problem, this should turn out to be quite trivial.\n",
        "3. **Fitness function**: We need a way to evaluate how good each phenotype is as a potential solution to the card-sorting problem. How might this be implemented? \n",
        "4. A method for **mutation**. Is it necessary to allow random changes in the offspring produced by reproduction in order to maintain variability. \n",
        "\n",
        "> **Task**: Code a single hill climbing individuals to solve the above task. Implement your\n",
        "algorithm in full and run it for at least 100 generations (i.e. repetitions of the algorithm).\n",
        "Recording the fitness at each generation. Plot the fitness versus the generation number.\n",
        "Have you found a solution? Try changing the mutation rate and observe the effects.\n",
        "\n",
        "**Tips**:\n",
        "- Code an individual as a single vector, using binary digits (0 or 1) for each gene. Each digit represents whether the corresponding object is being included in the knapsack. Below is an example of how to generate this in python:\n",
        "\n"
      ]
    },
    {
      "cell_type": "code",
      "metadata": {
        "id": "ru0NWw_vwlie"
      },
      "source": [
        "import random\n",
        "import numpy as np\n",
        "import matplotlib.pyplot as plt\n",
        "import pandas as pd"
      ],
      "execution_count": null,
      "outputs": []
    },
    {
      "cell_type": "code",
      "metadata": {
        "colab": {
          "base_uri": "https://localhost:8080/"
        },
        "id": "aZ2ChaBB6jPQ",
        "outputId": "cea5a540-b618-43f1-99ae-a70b1c358120"
      },
      "source": [
        "\n",
        "\n",
        "# number of items in our problem\n",
        "num_items = 30\n",
        "\n",
        "# hill climbing genotype\n",
        "genotype = np.random.choice([0, 1], (num_items))\n",
        "print(genotype)"
      ],
      "execution_count": null,
      "outputs": [
        {
          "output_type": "stream",
          "name": "stdout",
          "text": [
            "[0 0 0 0 0 1 0 0 0 1 0 0 1 0 1 0 0 1 0 0 1 1 0 0 0 0 1 1 0 0]\n"
          ]
        }
      ]
    },
    {
      "cell_type": "markdown",
      "metadata": {
        "id": "Lj_z5dAv85_d"
      },
      "source": [
        "* There are several ways in which you can encode the problem itself (the volumes and benefit of each object). It may be useful to store these values as an array:"
      ]
    },
    {
      "cell_type": "code",
      "metadata": {
        "colab": {
          "base_uri": "https://localhost:8080/"
        },
        "id": "FQDPxQWL9eBI",
        "outputId": "e687a9f0-c848-420e-c2b2-bcd7f93826e8"
      },
      "source": [
        "import numpy as np\n",
        "\n",
        "max_volume = 100\n",
        "benefits = np.array([5, 6, 1, 9, 2, 8, 4, 3, 7, 10, 5, 6, 1, 9, 2, 8, 4, 3, 7, 10, 5, 6, 1, 9, 2, 8, 4, 3, 7, 10])\n",
        "volumes = np.array([3, 2, 4, 5, 8, 9, 10, 1, 6, 7, 3, 2, 4, 5, 8, 9, 10, 1, 6, 7, 3, 2, 4, 5, 8, 9, 10, 1, 6, 7])\n",
        "print(benefits)\n",
        "print(volumes)"
      ],
      "execution_count": null,
      "outputs": [
        {
          "output_type": "stream",
          "name": "stdout",
          "text": [
            "[ 5  6  1  9  2  8  4  3  7 10  5  6  1  9  2  8  4  3  7 10  5  6  1  9\n",
            "  2  8  4  3  7 10]\n",
            "[ 3  2  4  5  8  9 10  1  6  7  3  2  4  5  8  9 10  1  6  7  3  2  4  5\n",
            "  8  9 10  1  6  7]\n"
          ]
        }
      ]
    },
    {
      "cell_type": "markdown",
      "metadata": {
        "id": "3flVdcci8QZX"
      },
      "source": [
        "* The fitness function should return a _single number_ which quantifies how close to the ideal solution a phenotype is. Below is a rough example of what this function should look like:"
      ]
    },
    {
      "cell_type": "code",
      "metadata": {
        "id": "UoI6t92I8WnN"
      },
      "source": [
        "def fitness_function(gtype, benefits, volumes, max_volume):\n",
        "    # put your fitness calculuations here\n",
        "    \n",
        "    total_volume = 0  #total volume for the phenotype in kg\n",
        "    total_benefits = 0  #total benefits in phenotype in dollars $\n",
        "\n",
        "#calculate total of benefits and volumes\n",
        "    for i in range(volumes.shape[0]):\n",
        "      total_benefits += benefits[i]*gtype[i]\n",
        "    for i in range(volumes.shape[0]):\n",
        "      total_volume += volumes[i]*gtype[i]\n",
        "\n",
        "    if (total_volume <= max_volume): #check that volume isn't exceeding max volume\n",
        "      fitness = total_benefits\n",
        "    else:\n",
        "      fitness = 0\n",
        "\n",
        "    return fitness # a single number saying how good the geneotype is"
      ],
      "execution_count": null,
      "outputs": []
    },
    {
      "cell_type": "markdown",
      "metadata": {
        "id": "SKMaaudb-IZi"
      },
      "source": [
        "* Implement your mutation by selecting a random gene (e.g by picking a random number between 1 and 10) and then flipping the number (0 to 1 or 1 to 0). \n",
        "\n",
        "* Overwrite the current individual if the new indvidual is better.\n",
        "\n",
        "**You will need to integrate these features into a loop which performs the genetic algorithm detailed above**."
      ]
    },
    {
      "cell_type": "code",
      "metadata": {
        "id": "Q1Y2UlfGsez2"
      },
      "source": [
        "\n",
        "def mutate(individual, rate = 0.2):\n",
        "  '''\n",
        "  Randomly mutate a single gene in an individual\n",
        "  param individual: single individual to be mutated\n",
        "  param rate: mutation rate\n",
        "  return: the new individual after mutation\n",
        "  '''\n",
        "  random_rate = random.random()\n",
        "  mutated_gene = random.randint(0,9)\n",
        "  if random_rate < rate:\n",
        "    if (individual[mutated_gene] == 1):\n",
        "      individual[mutated_gene] = 0\n",
        "    else:\n",
        "      individual[mutated_gene] = 1\n",
        "  \n",
        "  return individual\n",
        "  \n",
        "\n",
        "\n",
        "\n",
        "#this method increases individual's fitness through trial and error\n",
        "def hill_climb(gtype, m_rate):\n",
        "  '''\n",
        "  Function to do hill climb for a single individual\n",
        "  param gtype: individual doing hill climb\n",
        "  param m_rate: mutation rate that will be passed to the mutate() function\n",
        "  return: individual after doing hill climb\n",
        "  '''\n",
        "  new_gtype = np.zeros(gtype.shape)\n",
        "  f_old = fitness_function(gtype, benefits, volumes, max_volume)\n",
        "  f_new = 0\n",
        "\n",
        "#loop to make sure that new fitness isn't less that old one\n",
        "  while (f_new < f_old):\n",
        "    new_gtype = mutate(gtype, m_rate)\n",
        "    f_new = fitness_function(new_gtype, benefits, volumes, max_volume)\n",
        "  return new_gtype\n"
      ],
      "execution_count": null,
      "outputs": []
    },
    {
      "cell_type": "markdown",
      "metadata": {
        "id": "PEk4iPGE-xd7"
      },
      "source": [
        "> **Task**: Code a population of hill climbers that attempt to solve the task in parallel. Plot the fitness of the hillclimbers versus the number of tournaments. How many individuals are successful for each run. Is a population of hill climbers less or more computational expensive? What happens when you make the problem bigger or change the problem.\n",
        "\n",
        "\n",
        "**Tips**:\n",
        "- For a population of hill climbers code many individuals in a matrix and keep fitness values in vector:"
      ]
    },
    {
      "cell_type": "code",
      "metadata": {
        "id": "j4P3cTPh_DwA"
      },
      "source": [
        "import numpy as np \n",
        "\n",
        "def create_pop(num_items = volumes.shape[0] , num_individuals = 100):\n",
        "  '''\n",
        "  Create population of many individuals\n",
        "  param num_items: number of genes for each indiviual, default is the same number of objects as stated at the begining of the problem\n",
        "  param num_individuals: number of individuals in the population\n",
        "  return: population\n",
        "  '''\n",
        "  population = np.random.choice([0, 1], (num_individuals, num_items))\n",
        "\n",
        "  return population"
      ],
      "execution_count": null,
      "outputs": []
    },
    {
      "cell_type": "markdown",
      "metadata": {
        "id": "rzWQYnyYAsuz"
      },
      "source": [
        "> **Task**: Demonstrate that a local minima exist. Can you find suboptimal solution that get worse with every mutation but is not the globally optimal solution. It can be helpful to plot fitness over time. "
      ]
    },
    {
      "cell_type": "code",
      "metadata": {
        "id": "a4Ee-FVS_pDN",
        "colab": {
          "base_uri": "https://localhost:8080/"
        },
        "outputId": "c7c81025-57f8-45de-abb5-a7d96e47df29"
      },
      "source": [
        "#hill climb with mutation rate 0.2\n",
        "\n",
        "#1st for loop is to iterate through number of generations starting at generation 0 which is the initial population\n",
        "#2nd for loop is to iterate through population and do hill climbing for each individual\n",
        "population = create_pop()\n",
        "fitness_history = []           #array to record fitness for all generations\n",
        "num_of_generations = 50\n",
        "for i in range(num_of_generations): #1st for loop\n",
        "  fitness = np.zeros(population.shape[0])   #array to record fitness for all individuals in a single generation\n",
        "  \n",
        "  for i in range(population.shape[0]):  #2nd for loop\n",
        "    fitness[i] = fitness_function(hill_climb(population[i],0.2), benefits, volumes, max_volume)\n",
        "\n",
        "  fitness_history.append(fitness)  #add fitness scores for current generation\n",
        "\n",
        "#polt the best fitness in each generation against generation number\n",
        "best_of_generation = [np.max(fitness) for fitness in fitness_history]\n",
        "plt.plot(list(range(num_of_generations)), best_of_generation)\n",
        "plt.title('Fitness of best individual in each generation')\n",
        "plt.xlabel('Generations')\n",
        "plt.ylabel('Fitness')\n",
        "plt.show()"
      ],
      "execution_count": null,
      "outputs": [
        {
          "output_type": "display_data",
          "data": {
            "text/plain": [
              "<Figure size 432x288 with 1 Axes>"
            ],
            "image/png": "[encoded data removed]"
          },
          "metadata": {
            "needs_background": "light"
          }
        }
      ]
    },
    {
      "cell_type": "code",
      "metadata": {
        "id": "Et1tos6XRZa7",
        "colab": {
          "base_uri": "https://localhost:8080/"
        },
        "outputId": "e5307b08-254b-46dd-dec3-94f08f56d9ea"
      },
      "source": [
        "#hill climb with mutation rate 0.7\n",
        "\n",
        "#1st for loop is to iterate through number of generations starting at generation 0 which is the initial population\n",
        "#2nd for loop is to iterate through population and do hill climbing for each individual\n",
        "population = create_pop()\n",
        "fitness_history = [] #array to record fitness for all generations\n",
        "num_of_generations = 50\n",
        "for i in range(num_of_generations):  #1st for loop\n",
        "  fitness = np.zeros(population.shape[0])   #array to record fitness for all individuals in a single generation\n",
        "  \n",
        "  for i in range(population.shape[0]):  #2nd for loop\n",
        "    fitness[i] = fitness_function(hill_climb(population[i],0.7), benefits, volumes, max_volume)\n",
        "\n",
        "\n",
        "  fitness_history.append(fitness)    #add fitness scores for current generation\n",
        "\n",
        "#polt the best fitness in each generation against generation number\n",
        "best_of_generation = [np.max(fitness) for fitness in fitness_history]\n",
        "plt.plot(list(range(num_of_generations)), best_of_generation)\n",
        "plt.title('Fitness of best individual in each generation')\n",
        "plt.xlabel('Generations')\n",
        "plt.ylabel('Fitness')\n",
        "plt.show()"
      ],
      "execution_count": null,
      "outputs": [
        {
          "output_type": "display_data",
          "data": {
            "text/plain": [
              "<Figure size 432x288 with 1 Axes>"
            ],
            "image/png": "[encoded data removed]"
          },
          "metadata": {
            "needs_background": "light"
          }
        }
      ]
    },
    {
      "cell_type": "markdown",
      "metadata": {
        "id": "ATqh69YdMjrH"
      },
      "source": [
        "# Microbial GA\n",
        "\n",
        "We will implement a steady GA with tournament selection for the knapsack problem. See lecture notes for a full description. You will need:\n",
        "\n",
        "1. **Population**: a collection of $N$ genotypes. See previous tips for information on how to encode this. \n",
        "2. **Genotype - phenotype** mapping (same as before)\n",
        "3. **A fitness function** same as before, but now needs to return a list of fitness, one for each individual (e.g. length $N$)\n",
        "4. A **tournament selection** method - how to pick some subset of individuals and select some winners\n",
        "5. A **mutation operator** \n",
        "\n",
        "The Pseudocode is as follows:\n",
        "\n",
        "1. Initialise random pop $P$\n",
        "2. Pick 2 individuals at random & evaluate them (in terms of fitness) finding a winner (W) and loser (L) \n",
        "3. Replace L with W\n",
        "4. Add a mutation to W\n",
        "5. Goto 2\n",
        "\n",
        "> **Task** Implement the above Pseudocode. Plot the fitness of the best individual versus the number of tournaments. How well does it perform. Run several runs for fixed number of tournaments and plot a bar chart of the average fitness in different conditons.Does it do better than the hillclimber from last week? Whats is the effect of the mutation rate? \n",
        "\n",
        " "
      ]
    },
    {
      "cell_type": "code",
      "metadata": {
        "id": "37L1eztZquPs"
      },
      "source": [
        "def tournament_selection(person1, person2):\n",
        "  '''\n",
        "  Select a loser and a winner between 2 individuals regarding their fitness score\n",
        "  param person1: the 1st indivual \n",
        "  param person2: the 2nd indivual \n",
        "  return: a loser and a winner\n",
        "  '''\n",
        "  f1 = fitness_function(person1, benefits, volumes, max_volume)\n",
        "  f2 = fitness_function(person2, benefits, volumes, max_volume)\n",
        "\n",
        "  if (f1 > f2):\n",
        "    winner = person1\n",
        "    loser = person2\n",
        "  else:\n",
        "    loser = person1\n",
        "    winner = person2\n",
        "\n",
        "  return winner, loser"
      ],
      "execution_count": null,
      "outputs": []
    },
    {
      "cell_type": "code",
      "metadata": {
        "id": "95Vi_0kkROJd",
        "colab": {
          "base_uri": "https://localhost:8080/"
        },
        "outputId": "bcad9937-2cc1-423d-a6fd-f69f951dbea9"
      },
      "source": [
        "#tournament selection with mutation rate 0.2\n",
        "\n",
        "#do the GA for 60 rounds and each round there 10 tournaments done\n",
        "#after each round, average fitness is calculated and stored\n",
        "population = create_pop()\n",
        "num_of_tournaments = 10\n",
        "repeat_tournaments = 60\n",
        "fitness = np.zeros(num_of_tournaments)\n",
        "fitness_average = []   #store average fitness after each round\n",
        "for num in range(repeat_tournaments):  #iterate through each round\n",
        "  for i in range(num_of_tournaments):   #do a number of tournaments\n",
        "    r1 = random.randint(0, population.shape[0]-1)\n",
        "    r2 = random.randint(0, population.shape[0]-1)\n",
        "\n",
        "    winner, loser = tournament_selection(population[r1], population[r2])\n",
        "    population[r1] = winner\n",
        "    population[r2] = mutate(winner, rate=0.2)\n",
        "    fitness[i] = fitness_function(population[r1], benefits, volumes, max_volume)\n",
        "\n",
        "  fitness_average.append(fitness.mean())  #add average fitness for each 10 tournaments\n",
        "\n",
        "\n",
        "\n",
        "\n",
        "#Plot average fitness of each repeated number of tournaments\n",
        "plt.bar(list(range(repeat_tournaments)), fitness_average)\n",
        "plt.title('average fitness in each tournament')\n",
        "plt.xlabel('Tournament Number')\n",
        "plt.ylabel('Fitness')\n",
        "plt.show()\n",
        "print('Mean of fitness is:', fitness.mean())\n",
        "print('Max fitness achieved:', fitness.max())"
      ],
      "execution_count": null,
      "outputs": [
        {
          "output_type": "display_data",
          "data": {
            "text/plain": [
              "<Figure size 432x288 with 1 Axes>"
            ],
            "image/png": "[encoded data removed]"
          },
          "metadata": {
            "needs_background": "light"
          }
        },
        {
          "output_type": "stream",
          "name": "stdout",
          "text": [
            "Mean of fitness is: 119.2\n",
            "Max fitness achieved: 121.0\n"
          ]
        }
      ]
    },
    {
      "cell_type": "code",
      "metadata": {
        "id": "NrT5VP3L1dMT"
      },
      "source": [
        "#tournament selection with mutation rate 0.7\n",
        "\n",
        "#do the GA for 60 rounds and each round there 10 tournaments done\n",
        "#after each round, average fitness is calculated and stored\n",
        "population = create_pop()\n",
        "num_of_tournaments = 10\n",
        "repeat_tournaments = 60\n",
        "fitness = np.zeros(num_of_tournaments)\n",
        "fitness_average = []   #store average fitness after each round\n",
        "for num in range(repeat_tournaments):     #iterate through each round\n",
        "  for i in range(num_of_tournaments):       #do a number of tournaments\n",
        "    r1 = random.randint(0, population.shape[0]-1)\n",
        "    r2 = random.randint(0, population.shape[0]-1)\n",
        "\n",
        "    winner, loser = tournament_selection(population[r1], population[r2])\n",
        "    population[r1] = winner\n",
        "    population[r2] = mutate(winner, rate=0.7)\n",
        "    fitness[i] = fitness_function(population[r1], benefits, volumes, max_volume)\n",
        "\n",
        "  fitness_average.append(fitness.mean())        #add average fitness for each 10 tournaments\n",
        "\n",
        "#Plot average fitness of each repeated number of tournaments\n",
        "plt.bar(list(range(repeat_tournaments)), fitness_average)\n",
        "plt.title('average fitness in each tournament')\n",
        "plt.xlabel('Tournament Number')\n",
        "plt.ylabel('Fitness')\n",
        "plt.show()\n",
        "print('Mean of fitness is:', fitness.mean())\n",
        "print('Max fitness achieved:', fitness.max())"
      ],
      "execution_count": null,
      "outputs": []
    }
  ]
}